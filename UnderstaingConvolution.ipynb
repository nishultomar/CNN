{
  "nbformat": 4,
  "nbformat_minor": 0,
  "metadata": {
    "colab": {
      "name": "UnderstaingConvolution.ipynb",
      "provenance": [],
      "collapsed_sections": [],
      "mount_file_id": "1g6wUJxUXijk6iiqaz7WZW41JCuh5uq9S",
      "authorship_tag": "ABX9TyO3QWt+w7aGLtA7dnD2wn5w",
      "include_colab_link": true
    },
    "kernelspec": {
      "name": "python3",
      "display_name": "Python 3"
    }
  },
  "cells": [
    {
      "cell_type": "markdown",
      "metadata": {
        "id": "view-in-github",
        "colab_type": "text"
      },
      "source": [
        "<a href=\"https://colab.research.google.com/github/nishultomar/CNN/blob/master/UnderstaingConvolution.ipynb\" target=\"_parent\"><img src=\"https://colab.research.google.com/assets/colab-badge.svg\" alt=\"Open In Colab\"/></a>"
      ]
    },
    {
      "cell_type": "code",
      "metadata": {
        "id": "fyUMuyR3yWPp",
        "colab_type": "code",
        "colab": {}
      },
      "source": [
        "import numpy as np\n",
        "from scipy import signal\n",
        "import cv2\n",
        "import os\n",
        "from google.colab import drive\n",
        "from google.colab.patches import cv2_imshow"
      ],
      "execution_count": 0,
      "outputs": []
    },
    {
      "cell_type": "code",
      "metadata": {
        "id": "udEhkfb9zN68",
        "colab_type": "code",
        "outputId": "64925a55-b1fe-4f54-8116-4fe8a3c4860f",
        "colab": {
          "base_uri": "https://localhost:8080/",
          "height": 122
        }
      },
      "source": [
        "drive.mount('/content/gdrive/')"
      ],
      "execution_count": 0,
      "outputs": [
        {
          "output_type": "stream",
          "text": [
            "Go to this URL in a browser: https://accounts.google.com/o/oauth2/auth?client_id=947318989803-6bn6qk8qdgf4n4g3pfee6491hc0brc4i.apps.googleusercontent.com&redirect_uri=urn%3aietf%3awg%3aoauth%3a2.0%3aoob&response_type=code&scope=email%20https%3a%2f%2fwww.googleapis.com%2fauth%2fdocs.test%20https%3a%2f%2fwww.googleapis.com%2fauth%2fdrive%20https%3a%2f%2fwww.googleapis.com%2fauth%2fdrive.photos.readonly%20https%3a%2f%2fwww.googleapis.com%2fauth%2fpeopleapi.readonly\n",
            "\n",
            "Enter your authorization code:\n",
            "··········\n",
            "Mounted at /content/gdrive/\n"
          ],
          "name": "stdout"
        }
      ]
    },
    {
      "cell_type": "code",
      "metadata": {
        "id": "90l5XShwzQJx",
        "colab_type": "code",
        "outputId": "b6b7e457-6986-4f74-eac3-a915eb4d2a98",
        "colab": {
          "base_uri": "https://localhost:8080/",
          "height": 1000
        }
      },
      "source": [
        "img_small = cv2.imread('/content/gdrive/My Drive/chair3.jpg',cv2.IMREAD_GRAYSCALE)\n",
        "img = cv2.imread('/content/gdrive/My Drive/chair2.jpg',cv2.IMREAD_GRAYSCALE)\n",
        "cv2_imshow(img_small);\n",
        "#cv2_imshow(img);\n",
        "#px = img[100,100]\n",
        "np.set_printoptions(threshold=np.inf, linewidth=420)\n",
        "print (img_small)"
      ],
      "execution_count": 0,
      "outputs": [
        {
          "output_type": "display_data",
          "data": {
            "image/png": "[encoded data removed]",
            "text/plain": [
              "<PIL.Image.Image image mode=L size=40x74 at 0x7FCB35203160>"
            ]
          },
          "metadata": {
            "tags": []
          }
        },
        {
          "output_type": "stream",
          "text": [
            "[[166 166 162 165 164 165 162 165 163 162 160 160 161 162 163 163 161 161 161 161 162 162 163 163 163 163 163 162 162 162 163 164 162 162 163 164 165 166 167 167]\n",
            " [164 165 170 166 162 160 162 160 162 161 161 162 163 163 164 164 161 161 161 161 161 161 162 162 163 163 164 164 164 164 164 164 162 162 162 163 164 165 165 166]\n",
            " [166 167 164 161 164 165 164 165 161 161 162 162 162 162 162 161 164 163 163 163 163 163 163 164 161 161 162 163 163 163 163 163 162 162 162 162 163 164 164 164]\n",
            " [167 167 165 169 163 162 158 161 162 162 162 162 163 163 162 161 163 163 163 162 163 163 163 164 164 162 161 161 162 162 162 162 163 163 163 163 163 163 164 164]\n",
            " [168 162 163 167 162 165 166 160 163 162 161 162 163 164 163 161 163 162 162 163 163 164 164 165 166 165 163 163 163 163 163 162 164 164 163 163 164 164 164 165]\n",
            " [161 169 168 159 165 162 162 162 162 161 160 160 161 161 160 158 161 161 161 162 162 163 163 164 162 162 162 163 163 163 163 162 163 163 163 164 164 164 165 165]\n",
            " [163 166 160 165 172 174 165 164 162 162 163 164 163 162 161 161 162 162 162 162 162 163 163 164 162 163 163 163 163 162 162 162 162 162 162 163 163 164 165 165]\n",
            " [167 162 167 172 109 110 129 148 162 166 169 171 171 170 171 172 171 171 171 171 171 171 172 172 173 172 170 167 164 163 162 163 161 161 161 162 163 164 164 165]\n",
            " [167 164 166 176  52  13  14  10  15  17  25  35  39  51  58  63  65  78  76  81  90  87  90  91  94  87  85 138 168 162 164 163 163 161 162 162 161 163 165 165]\n",
            " [168 166 163 183  54  18  23  25  29  25  26  28  23  24  23  25  25  20  22  18  21  22  24  18  21  21  17  90 176 165 167 162 164 162 163 163 161 162 164 164]\n",
            " [164 163 160 181  57  26  27  24  26  24  22  28  26  25  24  29  27  23  28  30  28  25  26  31  28  29  20  97 166 164 161 165 165 163 163 163 161 162 164 163]\n",
            " [167 167 165 173  59  17  27  25  21  24  31  21  25  30  30  28  28  29  26  28  23  28  25  26  26  28  19  94 172 166 167 161 164 162 163 163 162 163 164 163]\n",
            " [163 165 159 166 107  39  27  39  25  14  22  33  11  14  11  15  16  11  16  14  25  23  17  20  27  28  12  92 170 160 162 163 163 161 162 163 161 162 163 161]\n",
            " [167 162 168 163 181  80  16 173 176 188  19  28 174 146 147 135 128 124 119 130   5  52 120 110  65  15  75 163 160 164 166 160 162 161 162 162 160 160 160 158]\n",
            " [160 164 159 161 174  71  21 160 156 161 123   6 125 167 155 157 161 161 167 120   0 151 165 171 105  19 116 168 164 160 153 162 159 159 161 161 160 159 159 156]\n",
            " [162 159 160 163 172  78  17 157 158 157 168  33  37 167 152 157 155 151 165  19  66 167 149 163 106  14 102 163 158 158 161 157 157 157 159 161 159 159 158 156]\n",
            " [160 161 162 159 171  82  15 154 155 152 163 126   0 120 158 152 153 158 108   1 161 156 154 162 103  14  97 164 157 159 159 158 158 157 158 157 156 156 156 153]\n",
            " [159 159 160 157 170  82  13 152 159 154 150 164  40  22 168 147 150 173   7  79 164 151 155 157 103  14  96 164 157 158 159 157 159 158 158 157 154 153 154 151]\n",
            " [158 159 159 157 169  84  12 150 152 158 150 158 126   4 117 162 161  98   3 151 156 151 152 161 102  13  93 164 157 158 159 157 159 158 158 156 152 151 151 149]\n",
            " [158 159 158 158 167  86  10 149 158 156 150 149 163  44  28 163 160  19  79 163 145 155 147 163 100  11  90 165 157 159 160 159 158 157 157 155 152 151 151 148]\n",
            " [157 159 158 158 163  86   6 145 156 150 153 152 155 129   1 119 100   0 163 151 147 150 157 156 100  11  88 165 157 159 160 159 158 156 155 154 152 152 150 145]\n",
            " [157 159 157 158 162  88   4 143 155 151 155 144 147 169  41  30  17  88 157 154 153 150 151 160 100  11  85 165 155 156 157 156 159 156 154 153 151 150 147 141]\n",
            " [157 159 155 157 161  91   3 140 158 149 147 151 150 150 132  13  20 148 149 145 147 154 147 158  99  10  82 164 153 154 154 153 157 154 153 152 149 147 143 137]\n",
            " [156 157 151 155 160  92   1 137 155 149 153 145 148 151 159  22  25 158 149 150 149 155 152 162  96   8  79 163 152 152 153 152 154 152 152 151 147 145 141 136]\n",
            " [154 156 153 154 159 100   2 133 150 146 145 147 144 155  93  10   5  94 151 151 148 153 150 156  97  14  77 160 151 152 152 151 153 150 147 148 144 139 138 133]\n",
            " [152 155 152 153 157 100   0 130 153 148 149 147 153 165   0  97  65   0 165 143 153 148 152 159  94  12  77 161 152 152 152 151 151 149 147 149 145 140 138 132]\n",
            " [153 155 153 154 158 103   0 127 146 151 152 143 156  85  12 154 141   5  81 155 145 156 150 158  90   8  76 162 153 152 152 152 150 148 146 147 144 138 136 130]\n",
            " [154 156 154 155 158 107   0 123 155 147 148 150 152   7  77 152 156  74   0 149 151 150 149 157  88   7  76 163 154 153 154 154 152 149 145 145 141 136 135 130]\n",
            " [154 155 154 154 157 111   0 119 151 152 142 154  87   0 166 146 141 155   4  63 163 148 147 162  88   9  77 163 153 152 153 154 152 149 144 144 140 135 134 130]\n",
            " [154 154 154 154 156 114   1 115 155 143 150 166   0  82 153 141 150 151  88   3 149 148 150 151  88  10  77 160 148 148 150 150 147 145 142 143 139 135 134 129]\n",
            " [153 153 153 153 154 117   0 112 155 142 156  74   9 153 140 142 139 147 153  19  48 163 147 159  85  10  78 158 144 146 148 147 145 143 140 141 138 133 133 128]\n",
            " [151 151 150 151 152 116   0 109 157 143 153   7  80 149 145 141 144 142 154 107   0 132 152 162  84  11  79 158 145 148 150 148 148 145 140 140 137 133 134 130]\n",
            " [152 152 152 151 156 123   1 112 170 176  78   2 176 154 153 153 153 153 152 178  23  31 177 166  86   9  78 154 149 150 145 148 146 143 140 141 139 137 137 132]\n",
            " [152 152 147 149 152 127   0  36  44  38  15  26  35  31  31  30  30  27  26  23  25  11  24  16  21  11  81 157 144 151 147 145 146 144 140 141 139 137 137 132]\n",
            " [149 153 150 151 150 129   0   1   6  13  15   6  11   5   5   9   7   0   2   4   0   7   6  10  10   9  81 160 146 149 146 146 145 143 140 140 138 136 136 131]\n",
            " [152 150 146 147 156 142   0  36  63  63  68  74  73  81  78  81  86  91  88  94  95  97  95 102  54   1  84 159 148 147 145 147 143 142 138 139 137 135 135 130]\n",
            " [145 150 152 150 151 140   0  84 172 158 159 154 156 146 155 157 148 151 160 153 157 156 157 172  73   0  90 155 146 146 146 145 143 141 138 139 137 134 134 129]\n",
            " [149 152 146 149 151 148   1  80 160 151 150 151 148 148 151 143 144 150 149 149 151 154 147 162  70   3  89 154 145 145 144 144 143 141 138 139 137 135 135 129]\n",
            " [149 151 152 152 149 148   0  72 158 150 148 148 150 146 146 151 151 152 151 150 153 149 155 159  67   6  89 155 145 143 143 144 143 141 138 139 137 135 134 129]\n",
            " [153 145 151 148 154 154   0  71 171 160 163 158 161 163 159 158 156 157 161 156 153 157 156 173  60   0  98 155 141 142 145 144 142 140 138 139 137 134 134 128]\n",
            " [148 152 147 154 149 153  27  63  85  81  82  76  81  75  66  65  65  66  65  59  53  54  58  57  62  74 118 152 146 145 141 144 144 134 137 142 137 133 131 131]\n",
            " [149 146 154 150 155 152 122  99 102  72  74  74  86  86  81  82  85  89  83  82  90  83  71  75  52  43  84 116 143 149 145 144 138 146 139 138 138 138 131 127]\n",
            " [142 150 144 149 155 108  79  74  82 135  80  87  86  85  82  82  78  83  83  80  79  73  69  71  76  58  71  77  85 120 149 146 145 135 140 138 134 137 131 129]\n",
            " [140 143 149 153 131  81  58  55  70  96 122  84  93  91  77  95  84  88  86  81  82  87  86  82  78  57 130  91  78  71  78 132 149 143 143 143 141 134 130 127]\n",
            " [141 142 146 145  82  69  61  47  68  66  73  84  88  91  98  93  98 105  93  79  83  84  80  84  83  83 128 108  89  71  77  58  90 146 142 138 139 131 130 126]\n",
            " [137 138 149 105  90  69  63  63  66  74  90  92  89  86  78  81  81  86  89  90  90  86  85  89  78  80  78  84  74  72  69  65  63  77 113 149 134 132 133 128]\n",
            " [138 143 130  94  85  83  62  66  86  89  88  89  82  78  81  78  74  56  52  57  56  63  70  66  58  42  61  67  67  65  66  69  70  63  68  78 122 135 126 127]\n",
            " [137 145  95 104  85  75  58  53  51  79  84  72  67  72  74  77  82  76  72  73  76  79  77  72  80  74  72  70  75  74  72  66  64  66  65  84 160 127 133 124]\n",
            " [137 133 112  99  77  67  54  46  52  60  61  61  67  73  76  81  84  84  84  84  80  75  71  70  65  64  59  67  60  56  54  54  51  45  41  60  42  41 126 123]\n",
            " [132 137 105  70  58  57  38  41  45  48  44  37  34  30  26  25  20  18  15  15  16  17  19  21  18  21  23  23  21  25  24  24  20  25  19  24  23   8 109 122]\n",
            " [137  45   4   7   9   9  13  11  12  16  17  18  21  21  19  18  20  20  20  23  25  25  24  23  27  24  26  24  26  27  22  25  24  28  28  26  26  13 129 147]\n",
            " [124   0  17  24  14  17  19  17  17  20  22  24  26  25  23  22  19  20  22  24  26  27  26  26  28  26  26  25  28  29  26  31  30  25  24  27  27  16  82  76]\n",
            " [ 78   8  17  16  17  15  20  16  20  21  23  25  24  23  21  20  18  21  24  25  25  25  25  25  23  28  27  28  28  29  28  26  24  28  30  26  29  26  72  76]\n",
            " [ 74  13  17  18  16  18  14  23  23  21  24  27  27  26  28  28  18  21  24  24  23  22  22  22  29  19  19  18  19  18  20  22  23  21  24  24  26  24  75  65]\n",
            " [ 78  11  17  21  11  11  18  15   8   2   2   4   1   0   0   0   4   5   9  14  22  31  37  39  22  23  60  54  57  59  67  74  80  64  35  36  22  21 113  98]\n",
            " [129  21  22  31  87 100  51  17 146 142 149 161 169 177 184 185 192 191 189 187 187 183 175 168  13  65 170 162 160 159 157 150 155 122  32  33  28  40 161 153]\n",
            " [170  27  22  61 169 190  74   4 203 183 179 177 175 183 183 178 177 176 170 166 168 171 164 142   6  68 168 160 154 150 147 143 152 106  36  33  25  54 149 134]\n",
            " [161  43  25  46 163 171  80   0 202 167 178 180 175 159 166 159 154 161 156 164 157 151 158 133   0  83 168 156 155 145 153 150 149  94  43  32  27  65 147 133]\n",
            " [180  51  22  38 166 191 100   1 201 178 184 178 184 174 187 189 177 181 181 181 173 173 167 130   1  92 158 163 169 152 150 153 155  82  43  29  27  88 152 141]\n",
            " [177  56  26  39 168 189 106   0 209 187 178 184 191 183 180 186 184 190 174 176 173 171 168 126   1  96 156 156 154 165 147 157 166  76  35  28  23 110 155 153]\n",
            " [176  77  22  32 167 187 124   1 187 180 183 193 184 183 183 180 179 178 182 172 163 162 156 159   0  74  84 102  99 101 109 102 125  43  22  28  23 103 131 130]\n",
            " [139  76  22  25 102 143  97   0  51  74  95 104 109 117 126 124 138 140 134 135 140 137 134 131 118 110  98  90  88  88  89  96  97  28  28  31  24  81  93  93]\n",
            " [145  95  28  24  84 150 132 102 106 106  92  83  85  73  72  80  80  87  96  92  90  92  89  89  88  79  86  83  89  98 101 103  97  29  31  29  34  97 102 107]\n",
            " [150 115  21  18 124 155 147 158 162 171 170 166 151 138 134 130 133 127 119 124 121 115 116 105 103  91  92  99 100 103 100 101 101  31  28  31  42 114  97  98]\n",
            " [151 129  15  20 115 157 149 159 160 164 165 155 156 153 156 155 157 153 146 138 131 124 115 109  97  94  92  93  94  93  95  99  89  29  29  26  55 104  98 101]\n",
            " [147 143  10  20 106 158 157 156 163 156 164 145 158 159 151 150 150 148 143 137 131 124 117 111 101  98  96  96  95  94  96 101  84  27  30  22  65 101  97  99]\n",
            " [142 150   7  20  92 162 161 157 157 164 158 149 153 155 151 153 146 145 141 135 129 123 116 112 101  99  97  97  97  96  99 104  79  25  29  15  81 100  97  98]\n",
            " [140 151  12  18  81 165 157 158 152 157 151 140 165 159 167 161 157 155 150 143 136 130 123 119 111 108 104 102  99  97  97  99  72  21  27  12 102 106 107 106]\n",
            " [139 156  23  18  73 165 155 155 153 154 149 142 153 160 149 155 152 150 146 140 134 128 120 114 106 103 100 101 102 102 102 104  72  22  24  10 112 104 104 102]\n",
            " [137 165  35  17  66 163 159 152 150 150 152 143 162 156 161 162 149 149 147 144 139 133 124 118 113 108 103 101 101 100  98  98  69  23  22  13 114  99 100  98]\n",
            " [140 166  45  15  57 161 151 152 151 148 128 137 154 152 157 149 149 149 147 144 138 132 124 118 113 108 103 101 101 102 103 104  60  19  20  21 114  99 104 105]\n",
            " [149 163  53  14  49 158 135 151 153 137 130 129 150 152 157 157 150 149 146 139 132 124 118 114 108 103  97  93  92  94  97  99  55  18  19  23 106  88  92  95]\n",
            " [139 152  67  14  39 134 156 144 138 144 115 138 157 150 152 150 153 142 141 139 137 134 124 122 118 111 107  98  95  99  97 101  56  19  17  30 105  95  97  98]\n",
            " [139 148  70  17  32 147 143 148 136 127 123 140 157 162 158 164 155 143 143 141 139 136 126 123 118 113 111 101  98 102 102 107  56  20  19  32 109 100 102 104]]\n"
          ],
          "name": "stdout"
        }
      ]
    },
    {
      "cell_type": "code",
      "metadata": {
        "id": "C5U1PHRFzvRf",
        "colab_type": "code",
        "outputId": "b7753e99-2bd2-48e9-ac6e-7a41d844698c",
        "colab": {
          "base_uri": "https://localhost:8080/",
          "height": 1000
        }
      },
      "source": [
        "kernel = np.array([[1, 0, -1],\n",
        "                   [1, 0, -1],\n",
        "                   [1, 0, -1]])\n",
        "dst = -signal.convolve2d(img_small, kernel, mode='valid')\n",
        "#cv2_imshow(dst)\n",
        "print(dst)"
      ],
      "execution_count": 0,
      "outputs": [
        {
          "output_type": "stream",
          "text": [
            "[[   0    6    6    2    2    0    2    6    3    0   -3   -3   -3   -1    3    3    1    0   -1   -1   -2   -3    1    2   -2   -2    0    0   -1   -2    4    5   -1   -3   -5   -6   -4   -2]\n",
            " [  -2    3   10    9    5    1   -1    2    0   -2   -3   -2    0    2    0   -1    1    1    0   -1   -1   -3    0    4    1   -2   -2   -1    0    0    2    2    0   -1   -3   -4   -3   -2]\n",
            " [   9   -1    3    5    1    6    2    1    1   -1   -3   -3    1    6   -3   -5    2    0   -1   -2   -1   -3   -1    5    5    1   -2   -1    0    1   -1   -2    1    1   -2   -3   -2   -2]\n",
            " [   0    3    6    6    4    6   -1   -2    4    1   -4   -4    2    8   -2   -6    1   -1   -2   -3   -2   -3   -2    4    6    2   -2   -1    0    2   -2   -4    1    0   -2   -1   -2   -3]\n",
            " [   1    6   -8  -10    6   15    6    1    3   -1   -3   -1    3    7   -2   -5    1   -2   -2   -3   -3   -3    0    3    2    1   -1    1    1    2   -1   -3    1   -1   -3   -2   -3   -3]\n",
            " [  -4    1   49   50  -10  -28  -30  -15   -6   -6   -3    2    3    2   -2   -3    0   -1   -1   -2   -3   -3    1    3    2    4    5    5    3    1    1    1    0   -3   -4   -3   -4   -3]\n",
            " [   4  -21  160  216   25  -25  -31  -23  -18  -25  -16  -13  -17  -13   -8  -15  -11   -3  -14   -7   -2   -6   -4    5   11  -46  -77  -19    7   -1    2    4    1   -3   -2   -4   -7   -4]\n",
            " [   6  -39  281  390   49  -42  -40  -25  -14  -26  -13  -11  -19  -15   -9   -9   -8   -1  -13  -10   -4   -1   -2    1   16 -115 -236  -95   15    2    5    4    2   -3    1   -2   -8   -5]\n",
            " [  10  -47  326  483   99   -2   -6   -7   -3  -25  -15   -9  -17  -17  -12   -4   -9   -8  -13   -5   -1   -6   -3    3   21 -188 -388 -166   18    1    0    4    4   -2    5    1  -10   -5]\n",
            " [  11  -41  318  476   93  -13    1    1   -3   -4    5   -2   -3   -3   -3   10    4   -4    4    1   -3    0    0   -3   19 -203 -458 -214   19    7    2    1    4   -2    5    2   -8   -3]\n",
            " [  10  -25  261  438  142   -6    9   26   -3  -20   13   13   -3   -3   -6    9    1   -9   -6   -4    8   -1  -13   -8   30 -198 -457 -207   18    1   -2    3    4   -3    4    2   -7    0]\n",
            " [   5   -8  145  366  277 -101 -152   11  150  144 -138 -108   22   12   16   14   11   -8  108   69 -109  -53   44   85   12 -278 -396 -141    7    6    6    0    2   -4    4    3   -4    3]\n",
            " [   4    1   24  300  398 -182 -293    9  193  296 -146 -260   -3   20    8   11    3   32  272   38 -272  -75  105  239   -6 -361 -291  -61   13   -1   -3    4   -1   -5    4    5   -1    6]\n",
            " [   2   -2  -40  258  473 -261 -436  -16  180  439  -26 -413 -118   31   10   13   -7  167  380 -101 -363  -74  158  396  -17 -446 -189   12    2    3    2    2   -4   -7    3    6    2    8]\n",
            " [   1    1  -36  252  464 -240 -416    1   15  305  292 -289 -303  -12   -4   -4   29  330  213 -334 -241  -22  154  449   -1 -448 -164   18    6    0   -1    4   -4   -6    3    5    2    9]\n",
            " [  -1    0  -31  237  468 -221 -427    0   -9  140  404   14 -401 -147   20  -26  178  383 -111 -375  -67   -8  146  440   17 -449 -177   16   -7    3    5    0   -1   -3    6    7    1    8]\n",
            " [  -4    6  -29  225  470 -208 -426   -8    3   16  297  302 -277 -315  -21   32  346  198 -363 -227   20  -22  153  439   22 -451 -185   17   -6    3    1   -1    2    3   12   10    1    7]\n",
            " [  -2    5  -29  220  471 -199 -434  -17   19   -3  121  401   16 -402 -158  182  382 -103 -376  -64   11  -24  149  443   26 -455 -192   18   -7    2    2    0    3    5   15   13    2    7]\n",
            " [  -2    4  -24  217  471 -188 -438  -20   13    5    9  282  298 -267 -275  327  176 -348 -203    9   -8  -24  154  445   31 -459 -200   18   -8    1    4    4    5    6   14   11    4   12]\n",
            " [  -1    3  -19  214  472 -177 -449  -20   11   12   -7  103  395   30 -207  205 -122 -361  -46   13  -10  -24  155  446   37 -462 -206   21   -8    0    2    5    9    7   11    9    7   19]\n",
            " [   1    4  -16  208  473 -163 -456  -22   14    3    3   -1  278  286   37  -74 -332 -214   22   -4   -8  -20  156  442   44 -462 -210   25   -6    1   -3    2   12    7   10   10   12   26]\n",
            " [   7    5  -20  199  475 -149 -460  -29   13    9   10  -30  113  405  270 -329 -393  -55    6  -10   -1  -21  155  451   49 -463 -214   30   -4    1   -6   -1   11    6   12   14   16   28]\n",
            " [   8    6  -21  183  474 -127 -457  -34   18    1    3  -13   58  411  334 -355 -399  -46    5  -16   -5  -14  157  444   54 -455 -218   29   -3    2   -5    0   12    5   12   20   18   25]\n",
            " [   6    6  -20  170  473 -108 -455  -43   11    4    2  -32  193  342  157 -123 -370 -192   15  -12   -4  -21  167  443   54 -450 -222   28   -2    2   -1    3   12    3   10   24   19   23]\n",
            " [   1    5  -16  158  472  -87 -447  -55    3    8   -7   32  348  144 -106  162 -186 -350  -49   -8   -6  -16  171  439   51 -449 -226   27    0    2    2    7   14    3    7   27   21   22]\n",
            " [   0    4  -14  152  473  -70 -454  -66    5    6  -12  183  372 -146 -273  324  116 -368 -203   -7   -2  -20  179  447   43 -459 -230   29    1    0    5   11   15    5    8   27   21   22]\n",
            " [   0    3  -12  142  473  -48 -452  -81   10    3   47  355  140 -360 -183  218  353 -133 -374  -87   13  -23  180  453   37 -464 -231   31    1   -3    5   14   19   10   10   27   20   19]\n",
            " [   0    2   -9  131  470  -25 -460  -85   21  -28  201  381 -157 -350  -51   59  355  165 -371 -231   17  -24  182  444   34 -460 -225   33   -2   -5    6   15   20   11   11   26   17   17]\n",
            " [   0    1   -6  119  466   -4 -460  -91   13   43  352  159 -363 -194   29  -24  185  368 -115 -374  -84  -13  183  443   29 -452 -213   35   -6   -5    7   14   18    9    9   25   16   16]\n",
            " [   1    0   -5  111  461   11 -466  -92    8  181  370 -137 -349  -40    5  -16   38  311  198 -314 -252  -29  192  441   23 -445 -203   34  -11   -3    8   12   18    9    8   23   13   14]\n",
            " [   1    1   -7   99  461   23 -481 -128   95  378  122 -373 -173   20    2   -6  -23  138  388  -22 -405 -161  221  457   20 -440 -203   26   -5    1    4   12   19    9    6   19   10   13]\n",
            " [   6    4  -11   85  459  109 -370 -100  125  322  -45 -299  -38   10    2    2   -5   14  284  134 -305 -170  162  313  -47 -438 -200   20   -4    8    2    9   20   10    5   15    7   13]\n",
            " [   4    6   -9   72  457  230 -219  -78  112  193 -114 -156   33   -2   -1   12   10  -25  132  156 -159 -143   90  163 -123 -442 -199   21    1   11    1    9   17    8    4   12    6   15]\n",
            " [  10    8  -15   49  458  325 -113  -41   15    8  -21  -11    5   -3   -9    2    7   -3   -4    6   -5  -13   40  107 -161 -455 -192   29    0    9    4    9   16    9    4   12    6   15]\n",
            " [  -2    5   -9   37  457  290 -241 -113   -1    0    2    2    2  -15   -3    5   -9   -9   -2   -9   -6  -24  121  274 -118 -464 -185   32    3    4    6   12   15    8    4   13    7   15]\n",
            " [   2    6  -14   16  457  230 -394 -172   18   -7    0    4   -7   -6    6  -11  -19   -4   -6  -11    4  -29  202  432  -66 -464 -176   30    4    2    6   12   15    7    3   13    7   16]\n",
            " [  -7    2   -1   15  450  200 -489 -223   33    6    3   13    2  -11    9   -2  -17    1   -1   -7    2  -34  249  484  -58 -455 -168   30    3    1    4   10   15    6    3   13    8   17]\n",
            " [   2   -1   -5   -1  453  227 -488 -238   28    4    2    0    3    5    5   -7  -10    4    4   -5   -1  -34  261  485  -79 -455 -155   34   -1   -2    4   10   14    5    3   13    8   18]\n",
            " [   0   -6   -2   -1  425  249 -387 -185   21    9    1   -2   21   10   -1   -1   -5   10   18    5  -10  -29  180  309 -116 -382 -127   32    3   -2    0   17   16   -5    2   18   12   14]\n",
            " [  -2   -9   -6   -7  309  226 -209  -80   39    5   -9  -16   22   19    0   -7   -3   15   13    3   11  -11  111  188 -126 -306 -130  -13   -1    4    7   12   10    1    2   14   16   19]\n",
            " [  -6   -5  -14   40  231  177  -41  -52   33   51  -17   -9   24   17    1   -9   -3   17    9   11   24    7    8   28  -83 -170 -101  -69  -61  -20    8   19   11   -3    7   10   16   21]\n",
            " [ -16  -13    6  111  182  113    5  -75  -22   58   11  -17   25    3   -7   -1   -5   17    1    0   25   15   20   70  -79 -126  -21  -56  -66  -82  -60   -2   10    5    9   10   21   26]\n",
            " [ -16  -12   71  189  170   82  -22 -121  -55   42    8  -12   10   -3   -3   -6   -2   36   18   -4    9    7   -2   39  -92  -78   77   14  -52  -74  -80  -88  -41    5   11   17   23   20]\n",
            " [ -26   20  141  184  121   54  -22  -71  -81  -24   15   -8   17   -1  -10  -10   -5   29   13   -7    4    2   12   35  -97  -63   95   69   17  -41  -78 -111  -96  -64  -16   33   21   16]\n",
            " [  -9   79  168  123   71   45  -34  -53  -31  -36   -8   10    2    3    4    5   19   21    5   -7   -6   -6   16   34  -48  -54   37   51   18   16  -11  -94 -100  -79  -72  -33    6   17]\n",
            " [  38  123  114   76   77   45  -20  -60  -59  -11   24   17    5    0   -4   18   24   -2   -9   -8  -10    1   16   31    5  -25   -5   10    9   11   10   -6  -49 -105 -170  -83   24   15]\n",
            " [  75  124   90   72   73   60  -15  -63  -44    6   17   -1  -15  -13   -9   20   32    2   -4   -3   -6    9   15   28   11  -24  -10    9   10    6    7   15   11  -48 -150  -81  -61  -71]\n",
            " [  94  142   92   74   70   59    2  -47  -41   17   21   -5   -8   -8  -10    5   15    6   -1    1    5    8    4    4    9   -1   -2    5    6   11   15    8   10  -32 -100   -8 -143 -193]\n",
            " [ 185  139   77   43   39   35   -4  -26  -13    8    0   -8    1    0   -3    2    5    0   -2    5    7    3    4    5    2   -5    1    6    7    5    5    5    7  -12   -3   48 -273 -330]\n",
            " [ 267   81   45   18   11   14   -4  -15   -9    5    2    3   13   11    9    7    2   -4  -10   -7   -2   -1   -4   -1   -2   -1    0   -9    3    1   -2    2    3    1   -5   40 -244 -308]\n",
            " [ 301    6   -2    6  -12   -3    3  -13  -13  -10   -9   -2    8    9    6   -1   -9  -11  -10   -5    1    3   -3   -4   -1    1   -3   -8    6    3   -2    1   -4    2    0   24 -201 -244]\n",
            " [ 225  -37    4    8   -6   -6   -7   -6   -9  -14   -8    2    5    4   17    8  -15  -11   -4   -1    1    1   -7    0    8    2   -3   -5    1   -3   -3    5   -1   -3   -4   11 -147 -151]\n",
            " [ 179  -23    7   11   -8  -10    1   10    2  -12   -3    7    3    1    9    1  -17  -16  -13  -15  -14   -8   10   16  -32  -30    2   -6  -11  -16  -12    9   38   27   12   15 -183 -168]\n",
            " [ 225  -25  -58  -59   31   74  -94 -110    2  -27  -22  -11  -15  -10   -2   -4   -8   -8  -10  -11   -2    7  170  122 -185 -127   13   -2   -8  -10  -14   39  167  114   15    8 -273 -231]\n",
            " [ 316  -54 -206 -188  124  265 -214 -291   27  -15  -15  -18  -22   -3   -6   -9    5    5   -9  -18    1   36  335  193 -357 -220   27    8    0    1  -16   75  284  190   28  -13 -348 -270]\n",
            " [ 391  -47 -350 -323  214  440 -346 -471   45  -26  -13   -1  -14   -3   10   -6    8   11    3   12   15   62  478  227 -487 -262   37   24   12   11    1  121  345  224   31  -61 -377 -261]\n",
            " [ 442  -24 -429 -407  244  547 -352 -523   65   -7    7   19   -2  -10   28    8    1    7    9   16    9   90  482  162 -487 -236   16   32   28    1   -6  164  334  188   43 -113 -369 -201]\n",
            " [ 445   27 -424 -428  211  550 -326 -531   72  -10  -10   26   17  -18   18    2    4   11    8   26   10  106  491  118 -480 -204    4   13   28    2  -20  208  349  163   44 -174 -377 -164]\n",
            " [ 463   75 -431 -458  171  565 -267 -543   52  -10  -14   15    9  -15   10    6    3   20   28   23   18   91  489  153 -396 -159  -24    3   16    6  -40  211  346  116   27 -216 -365 -123]\n",
            " [ 422  113 -367 -423  110  518 -120 -440   -9  -40  -28   -2   -5   -7  -12  -18   11   25   14   13   18   54  339  136 -219  -68   -3   -6   -4   -1  -43  208  303   60   15 -207 -309  -82]\n",
            " [ 388  167 -281 -399    0  377    9 -257  -26  -20   -8    7   -3  -11  -16  -21  -15    6   19    8   14   12  173  116  -62  -12   -8  -12  -23  -14  -20  201  238   12    0 -193 -245  -49]\n",
            " [ 363  219 -239 -381  -66  188   57  -91  -38   -2   12   25   13   -6  -19  -20    2    3   -2    7   12   19   30   45   33    8   -1  -17  -13  -11   -5  212  208   -3  -13 -201 -192   -6]\n",
            " [ 382  277 -259 -400 -105   43    0  -22    1   37   35   40   30   -1   -8   -2    9   13   19   23   22   28   32   39   18  -11  -13  -19  -13   -9    9  214  199    3  -43 -229 -166    9]\n",
            " [ 402  329 -299 -412 -108   -3  -32  -18  -14   25   34   16   24   15    1    7   32   29   25   36   35   38   47   42   21   -5   -9   -2   -2  -11   17  214  187    8  -75 -240 -130   21]\n",
            " [ 408  362 -281 -417 -154    5  -13  -12   -7   35   20  -18    9    9    5   12   23   36   39   39   43   39   49   41   14    5   -1    3   -4  -21   38  223  164   18 -113 -242  -91    7]\n",
            " [ 400  386 -250 -427 -196   14    3   -6   -1   43   -3  -39    7    9   16   16   19   33   38   38   40   35   43   37   16   10    6    8   -1  -17   57  231  149   24 -162 -258  -53    4]\n",
            " [ 379  401 -204 -436 -227   22   11   -5    4   44  -13  -43    4    5   12   19   18   32   38   37   40   36   41   35   17   10    3    5    0  -12   75  239  143   31 -215 -273  -13    4]\n",
            " [ 346  419 -150 -440 -251   28   16    4    3   36  -28  -50    3   -3   19   24   15   27   34   36   42   40   37   32   23   15    5    5    5   -2   84  235  140   31 -255 -274   17    3]\n",
            " [ 313  437  -93 -439 -269   30   11    7   25   30  -40  -46    2    2   17   18   10   20   29   35   43   43   36   31   26   16    2   -1    1   -2  102  242  135   20 -274 -258   32   -3]\n",
            " [ 293  448  -39 -436 -273   27   -9   20   44   26  -56  -51   -9   -8   27   21    8   20   31   38   43   39   32   31   31   24    9   -1   -4   -5  114  241  123    3 -273 -229   38  -12]\n",
            " [ 263  438   20 -410 -297    6    0   18   69   25  -88  -50   -5   -2   14   16   18   18   27   32   41   36   27   32   32   30   19   -3   -9   -9  126  248  115  -18 -269 -208   32  -16]\n",
            " [ 237  418   70 -394 -314   -4    7   35   59    1  -96  -57   -3   -7    9   37   28   15   22   25   40   35   24   32   29   35   30   -3  -11  -12  129  250  112  -28 -265 -198   29  -14]]\n"
          ],
          "name": "stdout"
        }
      ]
    },
    {
      "cell_type": "code",
      "metadata": {
        "id": "q-uWseO4K1Fe",
        "colab_type": "code",
        "outputId": "5aad188c-7e60-4e32-edc3-08a72479d465",
        "colab": {
          "base_uri": "https://localhost:8080/",
          "height": 204
        }
      },
      "source": [
        "kernel = np.array([[1, 0, -1],\n",
        "                   [1, 0, -1],\n",
        "                   [1, 0, -1]])\n",
        "dst=cv2.filter2D(img,-1,kernel)\n",
        "cv2_imshow(dst)"
      ],
      "execution_count": 0,
      "outputs": [
        {
          "output_type": "display_data",
          "data": {
            "image/png": "[encoded data removed]",
            "text/plain": [
              "<PIL.Image.Image image mode=L size=100x187 at 0x7FCB348990F0>"
            ]
          },
          "metadata": {
            "tags": []
          }
        }
      ]
    },
    {
      "cell_type": "code",
      "metadata": {
        "id": "5bGguo9eAazK",
        "colab_type": "code",
        "outputId": "49d57f05-b732-44af-e197-9c941fc92091",
        "colab": {
          "base_uri": "https://localhost:8080/",
          "height": 204
        }
      },
      "source": [
        "kernel = np.array([[1, 1, 1],\n",
        "                   [0, 0, 0],\n",
        "                   [-1, -1, -1]])\n",
        "dst=cv2.filter2D(img,-1,kernel)\n",
        "cv2_imshow(dst)"
      ],
      "execution_count": 0,
      "outputs": [
        {
          "output_type": "display_data",
          "data": {
            "image/png": "[encoded data removed]",
            "text/plain": [
              "<PIL.Image.Image image mode=L size=100x187 at 0x7FCB348992E8>"
            ]
          },
          "metadata": {
            "tags": []
          }
        }
      ]
    },
    {
      "cell_type": "code",
      "metadata": {
        "id": "jdqYxmzkA49Y",
        "colab_type": "code",
        "outputId": "44c15681-b617-4330-82e6-9ac2241ab271",
        "colab": {
          "base_uri": "https://localhost:8080/",
          "height": 204
        }
      },
      "source": [
        "kernel = np.array([[1, 1, 0],\n",
        "                   [1, 0, -1],\n",
        "                   [0, -1, -1]])\n",
        "dst=cv2.filter2D(img,-1,kernel)\n",
        "cv2_imshow(dst)"
      ],
      "execution_count": 0,
      "outputs": [
        {
          "output_type": "display_data",
          "data": {
            "image/png": "[encoded data removed]",
            "text/plain": [
              "<PIL.Image.Image image mode=L size=100x187 at 0x7FCB348998D0>"
            ]
          },
          "metadata": {
            "tags": []
          }
        }
      ]
    },
    {
      "cell_type": "code",
      "metadata": {
        "id": "EiE8mTXfBTbK",
        "colab_type": "code",
        "outputId": "267275c6-785a-4c01-f865-fe23f9b85770",
        "colab": {
          "base_uri": "https://localhost:8080/",
          "height": 204
        }
      },
      "source": [
        "kernel = np.array([[-1, -1, 0],\n",
        "                   [-1, 0, 1],\n",
        "                   [0, 1, 1]])\n",
        "dst=cv2.filter2D(img,-1,kernel)\n",
        "cv2_imshow(dst)"
      ],
      "execution_count": 0,
      "outputs": [
        {
          "output_type": "display_data",
          "data": {
            "image/png": "[encoded data removed]",
            "text/plain": [
              "<PIL.Image.Image image mode=L size=100x187 at 0x7FCB34899400>"
            ]
          },
          "metadata": {
            "tags": []
          }
        }
      ]
    },
    {
      "cell_type": "code",
      "metadata": {
        "id": "21qA99WdBhJH",
        "colab_type": "code",
        "colab": {}
      },
      "source": [
        ""
      ],
      "execution_count": 0,
      "outputs": []
    }
  ]
}